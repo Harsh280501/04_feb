{
 "cells": [
  {
   "cell_type": "markdown",
   "id": "3627934e-f95b-427f-912e-92ee824ab991",
   "metadata": {},
   "source": [
    "# Q1 Create a python program to sort the given list of tuples based on integer value using a lambda function.\n",
    "\n",
    "[('Sachin Tendulkar', 34357), ('Ricky Ponting', 27483), ('Jack Kallis', 25534), ('Virat Kohli', 24936)]"
   ]
  },
  {
   "cell_type": "code",
   "execution_count": 1,
   "id": "c6252bc7-c936-4dde-a9fa-a2027d0bdcec",
   "metadata": {},
   "outputs": [
    {
     "data": {
      "text/plain": [
       "[('Sachin Tendulkar', 34357),\n",
       " ('Ricky Ponting', 27483),\n",
       " ('Jack Kallis', 25534),\n",
       " ('Virat Kohli', 24936)]"
      ]
     },
     "execution_count": 1,
     "metadata": {},
     "output_type": "execute_result"
    }
   ],
   "source": [
    "data = [('Sachin Tendulkar', 34357), ('Ricky Ponting', 27483), ('Jack Kallis', 25534), ('Virat Kohli', 24936)]\n",
    "data"
   ]
  },
  {
   "cell_type": "code",
   "execution_count": 2,
   "id": "8bbd3fae-243a-414a-8a9d-cdfd41708263",
   "metadata": {},
   "outputs": [
    {
     "name": "stdout",
     "output_type": "stream",
     "text": [
      "[('Virat Kohli', 24936), ('Jack Kallis', 25534), ('Ricky Ponting', 27483), ('Sachin Tendulkar', 34357)]\n"
     ]
    }
   ],
   "source": [
    "data.sort(key = lambda x : x[1])\n",
    "print(data)"
   ]
  },
  {
   "cell_type": "markdown",
   "id": "9749bca3-c4a6-4a67-82c9-ebc51fa7f6a5",
   "metadata": {},
   "source": [
    "# Q2 Write a Python Program to find the squares of all the numbers in the given list of integers using lambda and map functions.\n",
    "[1, 2, 3, 4, 5, 6, 7, 8, 9, 10]"
   ]
  },
  {
   "cell_type": "code",
   "execution_count": 3,
   "id": "47d48811-7021-4b1d-b906-8eb0aef41c75",
   "metadata": {},
   "outputs": [],
   "source": [
    "# Using lambda function\n",
    "\n",
    "data_q2 = [1, 2, 3, 4, 5, 6, 7, 8, 9, 10]\n",
    "\n",
    "def square(data_q2):\n",
    "    return map(lambda x: x ** 2, data_q2)\n"
   ]
  },
  {
   "cell_type": "code",
   "execution_count": 4,
   "id": "abd7e3c9-a39c-43ec-9d1a-a689d5da5311",
   "metadata": {},
   "outputs": [],
   "source": [
    "a = square(data_q2)"
   ]
  },
  {
   "cell_type": "code",
   "execution_count": 5,
   "id": "1819b8f3-e053-4a58-90f2-a99ed00f20ea",
   "metadata": {},
   "outputs": [
    {
     "data": {
      "text/plain": [
       "[1, 4, 9, 16, 25, 36, 49, 64, 81, 100]"
      ]
     },
     "execution_count": 5,
     "metadata": {},
     "output_type": "execute_result"
    }
   ],
   "source": [
    "list(a)"
   ]
  },
  {
   "cell_type": "markdown",
   "id": "08785260-73a0-4e9e-a95d-0684b9545c39",
   "metadata": {},
   "source": [
    "# Q3 Write a python program to convert the given list of integers into a tuple of strings. Use map and lambda functions\n",
    "Given String: [1, 2, 3, 4, 5, 6, 7, 8, 9, 10]\n",
    "Expected output: ('1', '2', '3', '4', '5', '6', '7', '8', '9', '10')"
   ]
  },
  {
   "cell_type": "code",
   "execution_count": 14,
   "id": "ff93ff56-f777-46e9-b2a9-4edd1309dbb8",
   "metadata": {},
   "outputs": [
    {
     "name": "stdout",
     "output_type": "stream",
     "text": [
      "(('1', '2', '3', '4', '5', '6', '7', '8', '9', '10'), ('1', '2', '3', '4', '5', '6', '7', '8', '9', '10'), ('1', '2', '3', '4', '5', '6', '7', '8', '9', '10'), ('1', '2', '3', '4', '5', '6', '7', '8', '9', '10'), ('1', '2', '3', '4', '5', '6', '7', '8', '9', '10'), ('1', '2', '3', '4', '5', '6', '7', '8', '9', '10'), ('1', '2', '3', '4', '5', '6', '7', '8', '9', '10'), ('1', '2', '3', '4', '5', '6', '7', '8', '9', '10'), ('1', '2', '3', '4', '5', '6', '7', '8', '9', '10'), ('1', '2', '3', '4', '5', '6', '7', '8', '9', '10'))\n"
     ]
    }
   ],
   "source": [
    "given = [1,2,3,4,5,6,7,8,9,10]\n",
    "convert = []\n",
    "for i in given:\n",
    "    convert.append(str(i))   \n",
    "\n",
    "def list_to_tuple(convert):\n",
    "    return map(lambda x : tuple(convert) , convert)\n",
    "a = list_to_tuple(convert)\n",
    "print(tuple(a))"
   ]
  },
  {
   "cell_type": "markdown",
   "id": "589358bb-52da-45c2-9817-890632da1b23",
   "metadata": {},
   "source": [
    "# Q4 Write a python program using reduce function to compute the product of a list containing numbers from 1 to 25."
   ]
  },
  {
   "cell_type": "code",
   "execution_count": 16,
   "id": "1784041c-82b9-42f4-af72-ce2d52769c7b",
   "metadata": {},
   "outputs": [],
   "source": [
    "from functools import reduce"
   ]
  },
  {
   "cell_type": "code",
   "execution_count": 17,
   "id": "ef1eca00-1d63-4423-bd0b-13ee81961fec",
   "metadata": {},
   "outputs": [],
   "source": [
    "l  = list(range(1,26))"
   ]
  },
  {
   "cell_type": "code",
   "execution_count": 30,
   "id": "75780202-30ba-4b60-9083-2be4a7e80b05",
   "metadata": {},
   "outputs": [
    {
     "data": {
      "text/plain": [
       "15511210043330985984000000"
      ]
     },
     "execution_count": 30,
     "metadata": {},
     "output_type": "execute_result"
    }
   ],
   "source": [
    "a =  reduce((lambda x , y : x*y ), l)\n",
    "a"
   ]
  },
  {
   "cell_type": "markdown",
   "id": "c61099f6-03a3-4e32-8b91-7febc97e43b2",
   "metadata": {},
   "source": [
    "# Q5 Write a python program to filter the numbers in a given list that are divisible by 2 and 3 using the filter function. [2, 3, 6, 9, 27, 60, 90, 120, 55, 46]"
   ]
  },
  {
   "cell_type": "code",
   "execution_count": 32,
   "id": "1987b9e1-04d0-49a4-8a22-69d66c906e79",
   "metadata": {},
   "outputs": [],
   "source": [
    " l = [2, 3, 6, 9, 27, 60, 90, 120, 55, 46]"
   ]
  },
  {
   "cell_type": "code",
   "execution_count": 38,
   "id": "76ca32da-1e55-4ba8-a460-a3d25e0102a3",
   "metadata": {},
   "outputs": [
    {
     "data": {
      "text/plain": [
       "[2, 3, 6, 9, 27, 60, 90, 120, 46]"
      ]
     },
     "execution_count": 38,
     "metadata": {},
     "output_type": "execute_result"
    }
   ],
   "source": [
    "a = filter((lambda x : x%2==0 or x%3==0),l)\n",
    "list(a)"
   ]
  },
  {
   "cell_type": "markdown",
   "id": "69a70ed7-a83b-48d6-9e14-ac19dcda859d",
   "metadata": {},
   "source": [
    "# Q6. Write a python program to find palindromes in the given list of strings using lambda and filter function. ['python', 'php', 'aba', 'radar', 'level']\n"
   ]
  },
  {
   "cell_type": "code",
   "execution_count": 40,
   "id": "deeb49f7-7e21-4185-82a3-c707476480ab",
   "metadata": {},
   "outputs": [],
   "source": [
    "l = ['python', 'php', 'aba', 'radar', 'level']"
   ]
  },
  {
   "cell_type": "code",
   "execution_count": 48,
   "id": "d6c8bed0-e233-424c-9674-0fe26794f892",
   "metadata": {},
   "outputs": [
    {
     "name": "stdout",
     "output_type": "stream",
     "text": [
      "Orginal list of strings:\n",
      "['python', 'php', 'aba', 'radar', 'level']\n",
      "\n",
      "List of palindromes:\n",
      "['php', 'aba', 'radar', 'level']\n"
     ]
    }
   ],
   "source": [
    "\n",
    "print(\"Orginal list of strings:\")\n",
    "print(l) \n",
    "result = list(filter(lambda x: (x == \"\".join(reversed(x))), l)) \n",
    "print(\"\\nList of palindromes:\")\n",
    "print(result) \n",
    "\n"
   ]
  },
  {
   "cell_type": "code",
   "execution_count": null,
   "id": "67744db3-5ec2-4669-a5ba-490d5bc8b8cc",
   "metadata": {},
   "outputs": [],
   "source": []
  }
 ],
 "metadata": {
  "kernelspec": {
   "display_name": "Python 3 (ipykernel)",
   "language": "python",
   "name": "python3"
  },
  "language_info": {
   "codemirror_mode": {
    "name": "ipython",
    "version": 3
   },
   "file_extension": ".py",
   "mimetype": "text/x-python",
   "name": "python",
   "nbconvert_exporter": "python",
   "pygments_lexer": "ipython3",
   "version": "3.10.8"
  }
 },
 "nbformat": 4,
 "nbformat_minor": 5
}
